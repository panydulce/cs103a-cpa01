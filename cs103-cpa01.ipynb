{
 "cells": [
  {
   "cell_type": "markdown",
   "id": "5aecb9aa-6d1e-4880-bbec-9d22cef3def5",
   "metadata": {},
   "source": [
    "<h1> Creative Programming Assignment <\\h1>"
   ]
  },
  {
   "cell_type": "code",
   "execution_count": null,
   "id": "2d7c9f65-818b-432f-bf05-10fa4c45af8b",
   "metadata": {},
   "outputs": [],
   "source": [
    "import numpy as np\n",
    "import pandas as pd\n",
    "import matplotlib as py"
   ]
  }
 ],
 "metadata": {
  "kernelspec": {
   "display_name": "Python 3 (ipykernel)",
   "language": "python",
   "name": "python3"
  },
  "language_info": {
   "codemirror_mode": {
    "name": "ipython",
    "version": 3
   },
   "file_extension": ".py",
   "mimetype": "text/x-python",
   "name": "python",
   "nbconvert_exporter": "python",
   "pygments_lexer": "ipython3",
   "version": "3.9.5"
  }
 },
 "nbformat": 4,
 "nbformat_minor": 5
}
